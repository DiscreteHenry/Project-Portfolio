{
 "cells": [
  {
   "cell_type": "code",
   "execution_count": null,
   "id": "d046f289",
   "metadata": {},
   "outputs": [],
   "source": [
    "from pathlib import Path\n",
    "import pandas as pd\n",
    "\n",
    "# Path to the folder containing nested .nii.gz files\n",
    "base_dir = Path(r\"C:\\Users\\HenryLi\\Downloads\\Radiomic Model\\Non evaluable\")\n",
    "\n",
    "# Collect all .nii.gz files recursively\n",
    "cases = []\n",
    "\n",
    "for nii_file in base_dir.rglob(\"*.nii.gz\"):\n",
    "    # Use nii_file.name if you want just the filename\n",
    "    # Use nii_file.relative_to(base_dir) if you want path relative to base_dir\n",
    "    cases.append(nii_file.name)  # or nii_file.relative_to(base_dir)\n",
    "\n",
    "# Create and save DataFrame\n",
    "df = pd.DataFrame(cases, columns=[\"Case\"])\n",
    "df.to_csv(\"nonusable.csv\", index=False)\n",
    "\n",
    "print(f\"Found {len(cases)} .nii.gz files.\")"
   ]
  },
  {
   "cell_type": "code",
   "execution_count": null,
   "id": "3fdda2cd",
   "metadata": {},
   "outputs": [],
   "source": []
  }
 ],
 "metadata": {
  "kernelspec": {
   "display_name": "Python 3",
   "language": "python",
   "name": "python3"
  },
  "language_info": {
   "codemirror_mode": {
    "name": "ipython",
    "version": 3
   },
   "file_extension": ".py",
   "mimetype": "text/x-python",
   "name": "python",
   "nbconvert_exporter": "python",
   "pygments_lexer": "ipython3",
   "version": "3.12.8"
  }
 },
 "nbformat": 4,
 "nbformat_minor": 5
}
