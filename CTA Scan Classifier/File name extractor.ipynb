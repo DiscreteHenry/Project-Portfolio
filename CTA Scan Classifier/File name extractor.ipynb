{
 "cells": [
  {
   "cell_type": "code",
   "execution_count": 4,
   "id": "d046f289",
   "metadata": {},
   "outputs": [
    {
     "name": "stdout",
     "output_type": "stream",
     "text": [
      "Found 98 .nii.gz files.\n"
     ]
    }
   ],
   "source": [
    "from pathlib import Path\n",
    "import pandas as pd\n",
    "\n",
    "# Path to the folder containing nested .nii.gz files\n",
    "base_dir = Path(r\"C:\\Users\\HenryLi\\Downloads\\Radiomic Model\\Validation Set\")\n",
    "\n",
    "# Collect all .nii.gz files recursively\n",
    "cases = []\n",
    "\n",
    "for nii_file in base_dir.rglob(\"*.nii.gz\"):\n",
    "    # Use nii_file.name if you want just the filename\n",
    "    # Use nii_file.relative_to(base_dir) if you want path relative to base_dir\n",
    "    cases.append(nii_file.name)  # or nii_file.relative_to(base_dir)\n",
    "\n",
    "# Create and save DataFrame\n",
    "df = pd.DataFrame(cases, columns=[\"Case\"])\n",
    "df.to_csv(\"usable.csv\", index=False)\n",
    "\n",
    "print(f\"Found {len(cases)} .nii.gz files.\")"
   ]
  },
  {
   "cell_type": "code",
   "execution_count": null,
   "id": "3fdda2cd",
   "metadata": {},
   "outputs": [],
   "source": []
  }
 ],
 "metadata": {
  "kernelspec": {
   "display_name": ".venv",
   "language": "python",
   "name": "python3"
  },
  "language_info": {
   "codemirror_mode": {
    "name": "ipython",
    "version": 3
   },
   "file_extension": ".py",
   "mimetype": "text/x-python",
   "name": "python",
   "nbconvert_exporter": "python",
   "pygments_lexer": "ipython3",
   "version": "3.10.0"
  }
 },
 "nbformat": 4,
 "nbformat_minor": 5
}
